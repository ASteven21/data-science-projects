{
 "cells": [
  {
   "cell_type": "markdown",
   "id": "81e3f2f7-393a-4910-908c-d8e11ce3ca65",
   "metadata": {},
   "source": [
    "# Data Science Salary Prediction\n",
    "\n",
    "## Column Description\n",
    "1. `job_title`:\tThe job title or role associated with the reported salary.\n",
    "2. `experience_level`:\tThe level of experience of the individual.\n",
    "3. `employment_type`:\tIndicates whether the employment is full-time, part-time, etc.\n",
    "4. `work_models`:\tDescribes different working models (remote, on-site, hybrid).\n",
    "5. `work_year`:\tThe specific year in which the salary information was recorded.\n",
    "6. `employee_residence`:\tThe residence location of the employee.\n",
    "7. `salary`:\tThe reported salary in the original currency.\n",
    "8. `salary_currency`:\tThe currency in which the salary is denominated.\n",
    "9. `salary_in_usd`:\tThe converted salary in US dollars.\n",
    "10. `company_location`:\tThe geographic location of the employing organization.\n",
    "11. `company_size`:\tThe size of the company, categorized by the number of employees.\n",
    "\n",
    "\n",
    "Data source: https://www.kaggle.com/datasets/sazidthe1/data-science-salaries"
   ]
  },
  {
   "cell_type": "code",
   "execution_count": 1,
   "id": "c3bdb049-9052-4c85-bda6-fd05e1b0bfdb",
   "metadata": {},
   "outputs": [
    {
     "data": {
      "text/html": [
       "<div>\n",
       "<style scoped>\n",
       "    .dataframe tbody tr th:only-of-type {\n",
       "        vertical-align: middle;\n",
       "    }\n",
       "\n",
       "    .dataframe tbody tr th {\n",
       "        vertical-align: top;\n",
       "    }\n",
       "\n",
       "    .dataframe thead th {\n",
       "        text-align: right;\n",
       "    }\n",
       "</style>\n",
       "<table border=\"1\" class=\"dataframe\">\n",
       "  <thead>\n",
       "    <tr style=\"text-align: right;\">\n",
       "      <th></th>\n",
       "      <th>job_title</th>\n",
       "      <th>experience_level</th>\n",
       "      <th>employment_type</th>\n",
       "      <th>work_models</th>\n",
       "      <th>work_year</th>\n",
       "      <th>employee_residence</th>\n",
       "      <th>salary</th>\n",
       "      <th>salary_currency</th>\n",
       "      <th>salary_in_usd</th>\n",
       "      <th>company_location</th>\n",
       "      <th>company_size</th>\n",
       "    </tr>\n",
       "  </thead>\n",
       "  <tbody>\n",
       "    <tr>\n",
       "      <th>0</th>\n",
       "      <td>Data Engineer</td>\n",
       "      <td>Mid-level</td>\n",
       "      <td>Full-time</td>\n",
       "      <td>Remote</td>\n",
       "      <td>2024</td>\n",
       "      <td>United States</td>\n",
       "      <td>148100</td>\n",
       "      <td>USD</td>\n",
       "      <td>148100</td>\n",
       "      <td>United States</td>\n",
       "      <td>Medium</td>\n",
       "    </tr>\n",
       "    <tr>\n",
       "      <th>1</th>\n",
       "      <td>Data Engineer</td>\n",
       "      <td>Mid-level</td>\n",
       "      <td>Full-time</td>\n",
       "      <td>Remote</td>\n",
       "      <td>2024</td>\n",
       "      <td>United States</td>\n",
       "      <td>98700</td>\n",
       "      <td>USD</td>\n",
       "      <td>98700</td>\n",
       "      <td>United States</td>\n",
       "      <td>Medium</td>\n",
       "    </tr>\n",
       "    <tr>\n",
       "      <th>2</th>\n",
       "      <td>Data Scientist</td>\n",
       "      <td>Senior-level</td>\n",
       "      <td>Full-time</td>\n",
       "      <td>Remote</td>\n",
       "      <td>2024</td>\n",
       "      <td>United States</td>\n",
       "      <td>140032</td>\n",
       "      <td>USD</td>\n",
       "      <td>140032</td>\n",
       "      <td>United States</td>\n",
       "      <td>Medium</td>\n",
       "    </tr>\n",
       "    <tr>\n",
       "      <th>3</th>\n",
       "      <td>Data Scientist</td>\n",
       "      <td>Senior-level</td>\n",
       "      <td>Full-time</td>\n",
       "      <td>Remote</td>\n",
       "      <td>2024</td>\n",
       "      <td>United States</td>\n",
       "      <td>100022</td>\n",
       "      <td>USD</td>\n",
       "      <td>100022</td>\n",
       "      <td>United States</td>\n",
       "      <td>Medium</td>\n",
       "    </tr>\n",
       "    <tr>\n",
       "      <th>4</th>\n",
       "      <td>BI Developer</td>\n",
       "      <td>Mid-level</td>\n",
       "      <td>Full-time</td>\n",
       "      <td>On-site</td>\n",
       "      <td>2024</td>\n",
       "      <td>United States</td>\n",
       "      <td>120000</td>\n",
       "      <td>USD</td>\n",
       "      <td>120000</td>\n",
       "      <td>United States</td>\n",
       "      <td>Medium</td>\n",
       "    </tr>\n",
       "  </tbody>\n",
       "</table>\n",
       "</div>"
      ],
      "text/plain": [
       "        job_title experience_level employment_type work_models  work_year  \\\n",
       "0   Data Engineer        Mid-level       Full-time      Remote       2024   \n",
       "1   Data Engineer        Mid-level       Full-time      Remote       2024   \n",
       "2  Data Scientist     Senior-level       Full-time      Remote       2024   \n",
       "3  Data Scientist     Senior-level       Full-time      Remote       2024   \n",
       "4    BI Developer        Mid-level       Full-time     On-site       2024   \n",
       "\n",
       "  employee_residence  salary salary_currency  salary_in_usd company_location  \\\n",
       "0      United States  148100             USD         148100    United States   \n",
       "1      United States   98700             USD          98700    United States   \n",
       "2      United States  140032             USD         140032    United States   \n",
       "3      United States  100022             USD         100022    United States   \n",
       "4      United States  120000             USD         120000    United States   \n",
       "\n",
       "  company_size  \n",
       "0       Medium  \n",
       "1       Medium  \n",
       "2       Medium  \n",
       "3       Medium  \n",
       "4       Medium  "
      ]
     },
     "execution_count": 1,
     "metadata": {},
     "output_type": "execute_result"
    }
   ],
   "source": [
    "# import dependencies\n",
    "import pandas as pd\n",
    "import numpy as np\n",
    "import matplotlib.pyplot as plt\n",
    "import seaborn as sns\n",
    "\n",
    "salary_df = pd.read_csv('./dataset/data_science_salaries.csv')\n",
    "salary_df.head()"
   ]
  },
  {
   "cell_type": "code",
   "execution_count": 2,
   "id": "8d335c17-c462-4355-9a7e-73becd480754",
   "metadata": {},
   "outputs": [
    {
     "name": "stdout",
     "output_type": "stream",
     "text": [
      "<class 'pandas.core.frame.DataFrame'>\n",
      "RangeIndex: 11087 entries, 0 to 11086\n",
      "Data columns (total 11 columns):\n",
      " #   Column              Non-Null Count  Dtype \n",
      "---  ------              --------------  ----- \n",
      " 0   job_title           11087 non-null  object\n",
      " 1   experience_level    11087 non-null  object\n",
      " 2   employment_type     11087 non-null  object\n",
      " 3   work_models         11087 non-null  object\n",
      " 4   work_year           11087 non-null  int64 \n",
      " 5   employee_residence  11087 non-null  object\n",
      " 6   salary              11087 non-null  int64 \n",
      " 7   salary_currency     11087 non-null  object\n",
      " 8   salary_in_usd       11087 non-null  int64 \n",
      " 9   company_location    11087 non-null  object\n",
      " 10  company_size        11087 non-null  object\n",
      "dtypes: int64(3), object(8)\n",
      "memory usage: 952.9+ KB\n"
     ]
    }
   ],
   "source": [
    "salary_df.info()"
   ]
  },
  {
   "cell_type": "code",
   "execution_count": 3,
   "id": "c529c967-16c1-4df7-b321-e54779a5f9b0",
   "metadata": {},
   "outputs": [
    {
     "data": {
      "text/html": [
       "<div>\n",
       "<style scoped>\n",
       "    .dataframe tbody tr th:only-of-type {\n",
       "        vertical-align: middle;\n",
       "    }\n",
       "\n",
       "    .dataframe tbody tr th {\n",
       "        vertical-align: top;\n",
       "    }\n",
       "\n",
       "    .dataframe thead th {\n",
       "        text-align: right;\n",
       "    }\n",
       "</style>\n",
       "<table border=\"1\" class=\"dataframe\">\n",
       "  <thead>\n",
       "    <tr style=\"text-align: right;\">\n",
       "      <th></th>\n",
       "      <th>work_year</th>\n",
       "      <th>salary</th>\n",
       "      <th>salary_in_usd</th>\n",
       "    </tr>\n",
       "  </thead>\n",
       "  <tbody>\n",
       "    <tr>\n",
       "      <th>count</th>\n",
       "      <td>11087.000000</td>\n",
       "      <td>1.108700e+04</td>\n",
       "      <td>11087.000000</td>\n",
       "    </tr>\n",
       "    <tr>\n",
       "      <th>mean</th>\n",
       "      <td>2022.848381</td>\n",
       "      <td>1.695723e+05</td>\n",
       "      <td>149614.977631</td>\n",
       "    </tr>\n",
       "    <tr>\n",
       "      <th>std</th>\n",
       "      <td>0.567803</td>\n",
       "      <td>4.080311e+05</td>\n",
       "      <td>66704.329347</td>\n",
       "    </tr>\n",
       "    <tr>\n",
       "      <th>min</th>\n",
       "      <td>2020.000000</td>\n",
       "      <td>1.400000e+04</td>\n",
       "      <td>15000.000000</td>\n",
       "    </tr>\n",
       "    <tr>\n",
       "      <th>25%</th>\n",
       "      <td>2023.000000</td>\n",
       "      <td>1.050000e+05</td>\n",
       "      <td>104000.000000</td>\n",
       "    </tr>\n",
       "    <tr>\n",
       "      <th>50%</th>\n",
       "      <td>2023.000000</td>\n",
       "      <td>1.422000e+05</td>\n",
       "      <td>142000.000000</td>\n",
       "    </tr>\n",
       "    <tr>\n",
       "      <th>75%</th>\n",
       "      <td>2023.000000</td>\n",
       "      <td>1.880500e+05</td>\n",
       "      <td>185900.000000</td>\n",
       "    </tr>\n",
       "    <tr>\n",
       "      <th>max</th>\n",
       "      <td>2024.000000</td>\n",
       "      <td>3.040000e+07</td>\n",
       "      <td>750000.000000</td>\n",
       "    </tr>\n",
       "  </tbody>\n",
       "</table>\n",
       "</div>"
      ],
      "text/plain": [
       "          work_year        salary  salary_in_usd\n",
       "count  11087.000000  1.108700e+04   11087.000000\n",
       "mean    2022.848381  1.695723e+05  149614.977631\n",
       "std        0.567803  4.080311e+05   66704.329347\n",
       "min     2020.000000  1.400000e+04   15000.000000\n",
       "25%     2023.000000  1.050000e+05  104000.000000\n",
       "50%     2023.000000  1.422000e+05  142000.000000\n",
       "75%     2023.000000  1.880500e+05  185900.000000\n",
       "max     2024.000000  3.040000e+07  750000.000000"
      ]
     },
     "execution_count": 3,
     "metadata": {},
     "output_type": "execute_result"
    }
   ],
   "source": [
    "salary_df.describe()"
   ]
  },
  {
   "cell_type": "code",
   "execution_count": 4,
   "id": "038bff07-8400-4e16-a532-11d55213144b",
   "metadata": {},
   "outputs": [
    {
     "data": {
      "text/plain": [
       "(11087, 11)"
      ]
     },
     "execution_count": 4,
     "metadata": {},
     "output_type": "execute_result"
    }
   ],
   "source": [
    "salary_df.shape"
   ]
  },
  {
   "cell_type": "code",
   "execution_count": 5,
   "id": "e1edb754-6853-4635-84b0-1e4e798ed221",
   "metadata": {},
   "outputs": [
    {
     "name": "stdout",
     "output_type": "stream",
     "text": [
      "Unique Values for EMPLOYMENT_TYPE: \n",
      "['Full-time' 'Part-time' 'Contract' 'Freelance']           \n",
      "Total Unique Values: 4\n",
      "\n",
      "\n",
      "Unique Values for EXPERIENCE_LEVEL: \n",
      "['Mid-level' 'Senior-level' 'Entry-level' 'Executive-level']           \n",
      "Total Unique Values: 4\n",
      "\n",
      "\n",
      "Unique Values for JOB_TITLE: \n",
      "['Data Engineer' 'Data Scientist' 'BI Developer' 'Research Analyst'\n",
      " 'Business Intelligence Developer' 'Data Analyst'\n",
      " 'Director of Data Science' 'MLOps Engineer' 'Machine Learning Scientist'\n",
      " 'Machine Learning Engineer' 'Data Science Manager' 'Applied Scientist'\n",
      " 'Business Intelligence Analyst' 'Analytics Engineer'\n",
      " 'Business Intelligence Engineer' 'Data Science' 'Research Scientist'\n",
      " 'Research Engineer' 'Managing Director Data Science' 'AI Engineer'\n",
      " 'Data Specialist' 'Data Architect' 'Data Visualization Specialist'\n",
      " 'ETL Developer' 'Data Science Practitioner' 'Computer Vision Engineer'\n",
      " 'Data Lead' 'ML Engineer' 'Data Developer' 'Data Modeler'\n",
      " 'Data Science Consultant' 'AI Architect' 'Data Analytics Manager'\n",
      " 'Data Science Engineer' 'Data Product Manager' 'Data Quality Analyst'\n",
      " 'Data Strategist' 'Prompt Engineer' 'Data Science Lead'\n",
      " 'Business Intelligence Manager' 'Data Manager' 'Data Analytics Lead'\n",
      " 'Machine Learning Infrastructure Engineer' 'Data Integration Engineer'\n",
      " 'Data Management Analyst' 'BI Analyst' 'Business Data Analyst'\n",
      " 'Machine Learning Operations Engineer' 'NLP Engineer'\n",
      " 'Marketing Data Scientist' 'AI Scientist' 'Machine Learning Researcher'\n",
      " 'Data Science Director' 'Head of Data' 'Machine Learning Modeler'\n",
      " 'Data Integration Specialist' 'Data Management Specialist' 'AI Developer'\n",
      " 'Business Intelligence Specialist' 'Data Quality Engineer'\n",
      " 'Decision Scientist' 'Financial Data Analyst' 'Data Strategy Manager'\n",
      " 'Data Visualization Engineer' 'Principal Data Scientist'\n",
      " 'Data Infrastructure Engineer' 'Machine Learning Software Engineer'\n",
      " 'Head of Machine Learning' 'Data Operations Analyst'\n",
      " 'Data Operations Engineer' 'Machine Learning Manager' 'BI Data Analyst'\n",
      " 'AI Research Engineer' 'Deep Learning Engineer' 'Data Operations Manager'\n",
      " 'Head of Data Science' 'Software Data Engineer' 'Compliance Data Analyst'\n",
      " 'Data Operations Specialist' 'Business Intelligence Data Analyst'\n",
      " 'AWS Data Architect' 'Product Data Analyst' 'Data Visualization Analyst'\n",
      " 'Cloud Data Engineer' 'Finance Data Analyst'\n",
      " 'Applied Machine Learning Engineer' 'Lead Data Analyst'\n",
      " 'BI Data Engineer' 'Cloud Database Engineer'\n",
      " 'Applied Machine Learning Scientist' 'Data Analytics Specialist'\n",
      " 'Big Data Engineer' 'Machine Learning Research Engineer'\n",
      " 'Staff Data Analyst' 'Lead Data Scientist' 'Insight Analyst'\n",
      " 'Azure Data Engineer' 'Data Analyst Lead' 'AI Programmer'\n",
      " 'Applied Data Scientist' 'AI Product Manager'\n",
      " 'Principal Machine Learning Engineer' 'Lead Machine Learning Engineer'\n",
      " 'Data Quality Manager' 'Data Product Owner' 'Data Modeller'\n",
      " 'Analytics Engineering Manager' 'Autonomous Vehicle Technician'\n",
      " 'ETL Engineer' 'Big Data Architect' 'Machine Learning Specialist'\n",
      " 'Data DevOps Engineer' 'Principal Data Engineer' 'Power BI Developer'\n",
      " 'Deep Learning Researcher' 'Consultant Data Engineer'\n",
      " 'Computer Vision Software Engineer' 'Manager Data Management'\n",
      " 'Data Analytics Consultant' 'Data Science Tech Lead'\n",
      " 'Data Analytics Engineer' 'Data Scientist Lead'\n",
      " 'Machine Learning Developer' 'Principal Data Architect'\n",
      " 'Marketing Data Analyst' 'Lead Data Engineer' 'Principal Data Analyst'\n",
      " 'Staff Machine Learning Engineer' 'Cloud Data Architect'\n",
      " 'Staff Data Scientist' 'Marketing Data Engineer' 'Sales Data Analyst']           \n",
      "Total Unique Values: 132\n",
      "\n",
      "\n",
      "Unique Values for COMPANY_SIZE: \n",
      "['Medium' 'Large' 'Small']           \n",
      "Total Unique Values: 3\n",
      "\n",
      "\n",
      "Unique Values for EMPLOYEE_RESIDENCE: \n",
      "['United States' 'Romania' 'Portugal' 'Lebanon' 'India' 'Ireland'\n",
      " 'United Kingdom' 'Spain' 'Egypt' 'Germany' 'Canada' 'Australia' 'Vietnam'\n",
      " 'Uganda' 'Italy' 'Thailand' 'Philippines' 'Tunisia' 'Belgium' 'Turkey'\n",
      " 'Nigeria' 'Uzbekistan' 'Argentina' 'France' 'Kuwait' 'Ukraine'\n",
      " 'South Africa' 'Slovenia' 'Singapore' 'Sweden' 'Saudi Arabia' 'Armenia'\n",
      " 'Russia' 'Georgia' 'Qatar' 'Peru' 'Poland' 'New Zealand' 'Norway'\n",
      " 'Netherlands' 'Mexico' 'Latvia' 'Pakistan' 'Lithuania' 'South Korea'\n",
      " 'Kenya' 'Moldova' 'Israel' 'Hungary' 'Croatia' 'Hong Kong' 'Greece'\n",
      " 'Ghana' 'Finland' 'Estonia' 'Cyprus' 'Ecuador' 'Austria' 'Colombia'\n",
      " 'Switzerland' 'Central African Republic' 'Czech Republic' 'Brazil'\n",
      " 'Bosnia and Herzegovina' 'Andorra' 'China' 'Costa Rica' 'Chile' 'Bolivia'\n",
      " 'Malaysia' 'United Arab Emirates' 'Puerto Rico' 'Japan' 'Iran'\n",
      " 'Indonesia' 'Dominican Republic' 'Algeria' 'Bulgaria' 'Malta'\n",
      " 'Luxembourg' 'Iraq' 'Denmark' 'Serbia' 'Jersey' 'American Samoa'\n",
      " 'Mauritius' 'Honduras']           \n",
      "Total Unique Values: 87\n",
      "\n",
      "\n",
      "Unique Values for COMPANY_LOCATION: \n",
      "['United States' 'Romania' 'Portugal' 'Lebanon' 'India' 'Ireland'\n",
      " 'United Kingdom' 'Spain' 'Egypt' 'Germany' 'Canada' 'Australia' 'Vietnam'\n",
      " 'Ukraine' 'Turkey' 'Thailand' 'South Africa' 'Slovenia' 'Singapore'\n",
      " 'Sweden' 'Saudi Arabia' 'Russia' 'Qatar' 'Poland' 'Philippines'\n",
      " 'New Zealand' 'Norway' 'Netherlands' 'Nigeria' 'Mexico' 'Latvia'\n",
      " 'Luxembourg' 'Lithuania' 'South Korea' 'Kenya' 'Japan' 'Italy' 'Israel'\n",
      " 'Hungary' 'Croatia' 'Hong Kong' 'Greece' 'Gibraltar' 'Ghana' 'France'\n",
      " 'Finland' 'Estonia' 'Ecuador' 'Denmark' 'Czech Republic' 'Colombia'\n",
      " 'Switzerland' 'Central African Republic' 'Brazil'\n",
      " 'Bosnia and Herzegovina' 'Armenia' 'Argentina' 'Andorra'\n",
      " 'United Arab Emirates' 'Puerto Rico' 'Pakistan' 'Malaysia' 'Iran'\n",
      " 'Indonesia' 'Algeria' 'Belgium' 'Austria' 'Malta' 'Moldova' 'Iraq'\n",
      " 'China' 'Chile' 'Bahamas' 'Mauritius' 'Honduras']           \n",
      "Total Unique Values: 75\n",
      "\n",
      "\n",
      "Unique Values for SALARY_CURRENCY: \n",
      "['USD' 'GBP' 'EUR' 'TRY' 'THB' 'ZAR' 'SGD' 'INR' 'PLN' 'PHP' 'NOK' 'ILS'\n",
      " 'HKD' 'AUD' 'CHF' 'CAD' 'BRL' 'JPY' 'HUF' 'DKK' 'CLP' 'MXN']           \n",
      "Total Unique Values: 22\n",
      "\n",
      "\n",
      "Unique Values for WORK_MODELS: \n",
      "['Remote' 'On-site' 'Hybrid']           \n",
      "Total Unique Values: 3\n",
      "\n",
      "\n"
     ]
    }
   ],
   "source": [
    "# check unique values of categorical columns\n",
    "columns = salary_df.columns.to_list()\n",
    "numerical_columns = ['work_year', 'salary', 'salary_in_usd']\n",
    "categorical_columns = list(set(columns).difference(numerical_columns))\n",
    "\n",
    "categorical = salary_df[categorical_columns]\n",
    "for cat in categorical_columns:\n",
    "    print(f'Unique Values for {cat.upper()}: \\n{salary_df[cat].unique()} \\\n",
    "          \\nTotal Unique Values: {len(salary_df[cat].unique())}\\n\\n')"
   ]
  },
  {
   "cell_type": "code",
   "execution_count": 6,
   "id": "733b4853-95e8-4813-bd29-6799dc352f57",
   "metadata": {},
   "outputs": [
    {
     "data": {
      "text/plain": [
       "['employment_type', 'experience_level', 'company_size', 'work_models']"
      ]
     },
     "execution_count": 6,
     "metadata": {},
     "output_type": "execute_result"
    }
   ],
   "source": [
    "# convert unique categorical values < 10 to category dtype to save memory usage\n",
    "cat_columns_small = [cat for cat in categorical_columns if len(salary_df[cat].unique()) < 10]\n",
    "cat_columns_small"
   ]
  },
  {
   "cell_type": "code",
   "execution_count": 7,
   "id": "eebf82ab-1b5b-4aeb-8488-c8d3d8a4eef6",
   "metadata": {},
   "outputs": [
    {
     "name": "stdout",
     "output_type": "stream",
     "text": [
      "<class 'pandas.core.frame.DataFrame'>\n",
      "RangeIndex: 11087 entries, 0 to 11086\n",
      "Data columns (total 11 columns):\n",
      " #   Column              Non-Null Count  Dtype   \n",
      "---  ------              --------------  -----   \n",
      " 0   job_title           11087 non-null  object  \n",
      " 1   experience_level    11087 non-null  category\n",
      " 2   employment_type     11087 non-null  category\n",
      " 3   work_models         11087 non-null  category\n",
      " 4   work_year           11087 non-null  int64   \n",
      " 5   employee_residence  11087 non-null  object  \n",
      " 6   salary              11087 non-null  int64   \n",
      " 7   salary_currency     11087 non-null  object  \n",
      " 8   salary_in_usd       11087 non-null  int64   \n",
      " 9   company_location    11087 non-null  object  \n",
      " 10  company_size        11087 non-null  category\n",
      "dtypes: category(4), int64(3), object(4)\n",
      "memory usage: 650.4+ KB\n"
     ]
    }
   ],
   "source": [
    "for cat in cat_columns_small:\n",
    "    salary_df[cat] = salary_df[cat].astype('category')\n",
    "    \n",
    "salary_df.info()"
   ]
  },
  {
   "cell_type": "code",
   "execution_count": 8,
   "id": "7aded595-d208-4eb6-92ff-9431113e5091",
   "metadata": {},
   "outputs": [
    {
     "data": {
      "text/plain": [
       "array(['Research Analyst', 'Data Analyst',\n",
       "       'Business Intelligence Analyst', 'Analytics Engineer',\n",
       "       'Data Analytics Manager', 'Data Quality Analyst',\n",
       "       'Data Analytics Lead', 'Data Management Analyst', 'BI Analyst',\n",
       "       'Business Data Analyst', 'Financial Data Analyst',\n",
       "       'Data Operations Analyst', 'BI Data Analyst',\n",
       "       'Compliance Data Analyst', 'Business Intelligence Data Analyst',\n",
       "       'Product Data Analyst', 'Data Visualization Analyst',\n",
       "       'Finance Data Analyst', 'Lead Data Analyst',\n",
       "       'Data Analytics Specialist', 'Staff Data Analyst',\n",
       "       'Insight Analyst', 'Data Analyst Lead',\n",
       "       'Analytics Engineering Manager', 'Data Analytics Consultant',\n",
       "       'Data Analytics Engineer', 'Marketing Data Analyst',\n",
       "       'Principal Data Analyst', 'Sales Data Analyst'], dtype=object)"
      ]
     },
     "execution_count": 8,
     "metadata": {},
     "output_type": "execute_result"
    }
   ],
   "source": [
    "# clean job title\n",
    "director_filter = salary_df.job_title.str.contains('Director')\n",
    "principal_filter = salary_df.job_title.str.contains('Principal')\n",
    "lead_filter = salary_df.job_title.str.contains('Lead')\n",
    "manager_filter = salary_df.job_title.str.contains('Manager')\n",
    "head_filter = salary_df.job_title.str.contains('Head')\n",
    "\n",
    "da_filter = salary_df.job_title.str.contains('Analy')\n",
    "ds_filter = salary_df.job_title.str.contains('D.* Scien.*')\n",
    "de_filter = salary_df.job_title.str.contains('Da.* Engineer.*')\n",
    "ml_filter = salary_df.job_title.str.contains('M.* Engineer.*')\n",
    "\n",
    "salary_df[da_filter]['job_title'].unique()"
   ]
  },
  {
   "cell_type": "code",
   "execution_count": 9,
   "id": "c8706dda-bfcc-4e3e-acae-6e8447f65974",
   "metadata": {},
   "outputs": [
    {
     "data": {
      "text/plain": [
       "array(['Data Analyst', 'Data Analytics Manager', 'Lead Data Analyst'],\n",
       "      dtype=object)"
      ]
     },
     "execution_count": 9,
     "metadata": {},
     "output_type": "execute_result"
    }
   ],
   "source": [
    "salary_df.loc[(da_filter) & (~lead_filter) & (~manager_filter), 'job_title'] = 'Data Analyst'\n",
    "salary_df.loc[(da_filter) & (lead_filter), 'job_title'] = 'Lead Data Analyst'\n",
    "salary_df.loc[(da_filter) & (manager_filter), 'job_title'] = 'Data Analytics Manager'\n",
    "salary_df[da_filter].job_title.unique()"
   ]
  },
  {
   "cell_type": "code",
   "execution_count": 10,
   "id": "83a4e1f9-99c7-41e7-a364-cc95b09d982a",
   "metadata": {},
   "outputs": [
    {
     "data": {
      "text/plain": [
       "array(['Data Engineer', 'Principal Data Engineer', 'Lead Data Engineer'],\n",
       "      dtype=object)"
      ]
     },
     "execution_count": 10,
     "metadata": {},
     "output_type": "execute_result"
    }
   ],
   "source": [
    "senior_filter = salary_df.job_title.str.contains('Principal') | \\\n",
    "                    salary_df.job_title.str.contains('Lead') | \\\n",
    "                    salary_df.job_title.str.contains('Manag.*') | \\\n",
    "                    salary_df.job_title.str.contains('Head') | \\\n",
    "                    salary_df.job_title.str.contains('Director')                    \n",
    "salary_df.loc[(de_filter) & (~senior_filter), 'job_title'] = 'Data Engineer'\n",
    "salary_df[de_filter].job_title.unique()"
   ]
  },
  {
   "cell_type": "code",
   "execution_count": 11,
   "id": "8ee712f2-9f39-4f00-8c93-b82d5ec02ad9",
   "metadata": {},
   "outputs": [
    {
     "data": {
      "text/plain": [
       "array(['Machine Learning Engineer', 'Principal Machine Learning Engineer',\n",
       "       'Lead Machine Learning Engineer'], dtype=object)"
      ]
     },
     "execution_count": 11,
     "metadata": {},
     "output_type": "execute_result"
    }
   ],
   "source": [
    "salary_df.loc[(ml_filter) & (~senior_filter), 'job_title'] = 'Machine Learning Engineer'\n",
    "salary_df[ml_filter].job_title.unique()"
   ]
  },
  {
   "cell_type": "code",
   "execution_count": 12,
   "id": "2b09c2eb-ec25-4fb4-a6ac-9f5c03bfe285",
   "metadata": {},
   "outputs": [
    {
     "data": {
      "text/plain": [
       "array(['Data Scientist', 'Director of Data Science',\n",
       "       'Data Science Manager', 'Managing Director Data Science',\n",
       "       'Data Science Lead', 'Data Science Director',\n",
       "       'Principal Data Scientist', 'Head of Data Science',\n",
       "       'Lead Data Scientist', 'Data Science Tech Lead',\n",
       "       'Data Scientist Lead'], dtype=object)"
      ]
     },
     "execution_count": 12,
     "metadata": {},
     "output_type": "execute_result"
    }
   ],
   "source": [
    "salary_df.loc[(ds_filter) & (~senior_filter), 'job_title'] = 'Data Scientist'\n",
    "salary_df[ds_filter].job_title.unique()"
   ]
  },
  {
   "cell_type": "code",
   "execution_count": 13,
   "id": "b5022708-6bc5-4ec2-9e76-a1c2ecab1610",
   "metadata": {},
   "outputs": [
    {
     "data": {
      "text/plain": [
       "array(['Data Scientist', 'Data Science Director', 'Data Science Manager',\n",
       "       'Lead Data Scientist', 'Principal Data Scientist',\n",
       "       'Head of Data Science'], dtype=object)"
      ]
     },
     "execution_count": 13,
     "metadata": {},
     "output_type": "execute_result"
    }
   ],
   "source": [
    "salary_df.loc[(ds_filter) & (director_filter), 'job_title'] = 'Data Science Director'\n",
    "salary_df.loc[(ds_filter) & (lead_filter), 'job_title'] = 'Lead Data Scientist'\n",
    "\n",
    "salary_df[ds_filter].job_title.unique()"
   ]
  },
  {
   "cell_type": "code",
   "execution_count": 14,
   "id": "498abb73-7925-4b44-a888-f86fc8ae58b1",
   "metadata": {},
   "outputs": [
    {
     "data": {
      "text/plain": [
       "array(['Data Architect', 'AI Architect', 'Principal Data Architect'],\n",
       "      dtype=object)"
      ]
     },
     "execution_count": 14,
     "metadata": {},
     "output_type": "execute_result"
    }
   ],
   "source": [
    "architect_filter = salary_df.job_title.str.contains('Architect')\n",
    "ai_filter = salary_df.job_title.str.contains('AI')\n",
    "salary_df.loc[(architect_filter) & (~principal_filter) & (~ai_filter), 'job_title'] = 'Data Architect'\n",
    "salary_df[architect_filter].job_title.unique()"
   ]
  },
  {
   "cell_type": "code",
   "execution_count": 15,
   "id": "96614943-3ef5-4386-a111-bc5458554b4f",
   "metadata": {},
   "outputs": [
    {
     "data": {
      "text/plain": [
       "array(['Data Engineer', 'Data Scientist', 'BI Developer', 'Data Analyst',\n",
       "       'Business Intelligence Developer', 'Data Science Director',\n",
       "       'Machine Learning Engineer', 'Machine Learning Scientist',\n",
       "       'Data Science Manager', 'Applied Scientist',\n",
       "       'Business Intelligence Engineer', 'Research Scientist',\n",
       "       'Research Engineer', 'AI Engineer', 'Data Specialist',\n",
       "       'Data Architect', 'Data Visualization Specialist', 'ETL Developer',\n",
       "       'Computer Vision Engineer', 'Data Lead', 'Data Developer',\n",
       "       'Data Modeler', 'AI Architect', 'Data Analytics Manager',\n",
       "       'Data Product Manager', 'Data Strategist', 'Prompt Engineer',\n",
       "       'Lead Data Scientist', 'Business Intelligence Manager',\n",
       "       'Data Manager', 'Lead Data Analyst', 'NLP Engineer',\n",
       "       'AI Scientist', 'Machine Learning Researcher', 'Head of Data',\n",
       "       'Machine Learning Modeler', 'Data Integration Specialist',\n",
       "       'Data Management Specialist', 'AI Developer',\n",
       "       'Business Intelligence Specialist', 'Data Strategy Manager',\n",
       "       'Principal Data Scientist', 'Head of Machine Learning',\n",
       "       'Machine Learning Manager', 'AI Research Engineer',\n",
       "       'Deep Learning Engineer', 'Data Operations Manager',\n",
       "       'Head of Data Science', 'Data Operations Specialist',\n",
       "       'Applied Machine Learning Scientist', 'AI Programmer',\n",
       "       'AI Product Manager', 'Principal Machine Learning Engineer',\n",
       "       'Lead Machine Learning Engineer', 'Data Quality Manager',\n",
       "       'Data Product Owner', 'Data Modeller',\n",
       "       'Autonomous Vehicle Technician', 'ETL Engineer',\n",
       "       'Machine Learning Specialist', 'Principal Data Engineer',\n",
       "       'Power BI Developer', 'Deep Learning Researcher',\n",
       "       'Computer Vision Software Engineer', 'Manager Data Management',\n",
       "       'Machine Learning Developer', 'Principal Data Architect',\n",
       "       'Lead Data Engineer'], dtype=object)"
      ]
     },
     "execution_count": 15,
     "metadata": {},
     "output_type": "execute_result"
    }
   ],
   "source": [
    "salary_df.job_title.unique()"
   ]
  },
  {
   "cell_type": "code",
   "execution_count": 16,
   "id": "21db7b50-30cf-40b7-8093-656ea0ee3a6b",
   "metadata": {},
   "outputs": [],
   "source": [
    "# continue to clean job titles"
   ]
  }
 ],
 "metadata": {
  "kernelspec": {
   "display_name": "Python 3 (ipykernel)",
   "language": "python",
   "name": "python3"
  },
  "language_info": {
   "codemirror_mode": {
    "name": "ipython",
    "version": 3
   },
   "file_extension": ".py",
   "mimetype": "text/x-python",
   "name": "python",
   "nbconvert_exporter": "python",
   "pygments_lexer": "ipython3",
   "version": "3.9.7"
  }
 },
 "nbformat": 4,
 "nbformat_minor": 5
}
